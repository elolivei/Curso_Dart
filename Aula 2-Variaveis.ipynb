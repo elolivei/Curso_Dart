{
 "cells": [
  {
   "cell_type": "markdown",
   "id": "unnecessary-spain",
   "metadata": {
    "id": "unnecessary-spain"
   },
   "source": [
    "# Variáveis Dart\n",
    "Prof. Elias Carneiro de Oliveira"
   ]
  },
  {
   "cell_type": "markdown",
   "id": "adjacent-inclusion",
   "metadata": {
    "id": "adjacent-inclusion"
   },
   "source": [
    "Uma variável é um contêiner que  armazena o valor enquanto o programa  é executado. Uma variável é assinada com um tipo de dado.\n",
    "\n",
    "Variável é um nome de alocação de memória. "
   ]
  },
  {
   "cell_type": "markdown",
   "id": "bwCnrlPHKtbT",
   "metadata": {
    "id": "bwCnrlPHKtbT"
   },
   "source": [
    "![image.png](data:image/png;base64,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)"
   ]
  },
  {
   "cell_type": "markdown",
   "id": "korean-northern",
   "metadata": {
    "id": "korean-northern"
   },
   "source": [
    "## Declaração de Variáveis"
   ]
  },
  {
   "cell_type": "markdown",
   "id": "antique-england",
   "metadata": {
    "id": "antique-england"
   },
   "source": [
    "Toda variável tem um **nome** que a **identifica univocamente e um valor**, que corresponde à informação a ela atribuida.<br>\n",
    "Por exemplo, *int n;* especifica que **n** é o nome de uma variável que pode armazenar um número **inteiro** como valor. <br>\n",
    "Em geral, num contexto onde aparece o nome de uma variável ocorre a **substituição por seu valor**. \n",
    "<br>\n",
    "O valor de uma variável pode mudar muitas vezes durante a execução de um programa, por meio de **atribuições de valor**."
   ]
  },
  {
   "cell_type": "markdown",
   "id": "8e061eb2",
   "metadata": {},
   "source": [
    "Toda linguagem de programação possui uma tipagem, que é basicamente um conjunto de regras que as define como estática, dinâmica e forte ou fraca.\n",
    "\n",
    "O Dart é uma linguagem de tipagem estática e fortemente tipada, então ele tem tipos bem definidos que são validados durante a compilação e não realiza conversões automáticas de tipo.\n",
    "\n",
    "Os tipos de dados no Dart são classes que herdam da classe Object fazendo um açúcar sintático para definir seus tipos.\n",
    "\n",
    "Um pequeno exemplo é o tipo int ou double, eles são classes que herdam de num que por sua vez herda da classe Object."
   ]
  },
  {
   "cell_type": "markdown",
   "id": "e1e885b5",
   "metadata": {},
   "source": [
    "## Declaração de variável\n",
    "\n",
    "A declaração de variáveis no Dart é um processo muito simples e há duas formas de realizar este processo. \n",
    "* A primeira é declarar o tipo da variável, seguido do nome e seu valor;\n",
    "* A segunda é determinar a palavra “var”, seguido do nome da variável e seu valor. \n",
    "* Este tipo de declaração irá criar uma variável com o tipo definido pelo valor que a variável está armazenando"
   ]
  },
  {
   "cell_type": "code",
   "execution_count": null,
   "id": "wired-baking",
   "metadata": {
    "colab": {
     "base_uri": "https://localhost:8080/"
    },
    "executionInfo": {
     "elapsed": 28,
     "status": "ok",
     "timestamp": 1648242158266,
     "user": {
      "displayName": "Elias Oliveira",
      "photoUrl": "https://lh3.googleusercontent.com/a-/AOh14GgpCAGkkzTWvcw3pD6a3inj6_qidbkL8g3rOuykLw=s64",
      "userId": "03206662063122040189"
     },
     "user_tz": 180
    },
    "id": "wired-baking",
    "outputId": "da58ae59-6388-49b0-9bf2-96c7a25a9831",
    "vscode": {
     "languageId": "dart"
    }
   },
   "outputs": [],
   "source": [
    "void main() {\n",
    "    \n",
    "    /* Tipagem explicita */\n",
    "\n",
    "   String variavel = \"valor_da_variavel\";\n",
    "   print(variavel);\n",
    "\n",
    "    /* Tipagem Dinâmica */\n",
    "\n",
    "   var nome = \"teste\";\n",
    "   print(nome);\n",
    "}\n",
    "\n"
   ]
  },
  {
   "cell_type": "markdown",
   "id": "silent-elite",
   "metadata": {
    "id": "silent-elite"
   },
   "source": [
    "## Declarando constantes\n",
    "* A regra de nomeação das constantes no Dart segue o mesmo padrão das variáveis. Porém, por possuir tipagem estática, os valores atribuídos à constantes não podem ser alterados.\n",
    "* Caso a intenção seja definir uma variável que não mude o seu valor utilizamos duas palavras reservadas **final** e **const** antes do tipo da variável. \n",
    "* Em resumo as duas são constantes e logicamente, após a sua inicialização, não podemos reatribuir nenhum valor a elas. \n",
    "* Enquanto **final** é uma constante em tempo de execução, **const** é uma constante de tempo de compilação.\n",
    "* Isso basicamente quer dizer que **final** não precisa conhecer o seu valor enquanto o compilador do Dart transforma o algoritmo em código de máquina. \n",
    "* Mas **const** precisa, pois um valor constante para o Dart é aquele conhecido em tempo de compilação."
   ]
  },
  {
   "attachments": {
    "image.png": {
     "image/png": "[encoded data removed]"
    }
   },
   "cell_type": "markdown",
   "id": "c015bf34",
   "metadata": {},
   "source": [
    "![cost.png](attachment:image.png)"
   ]
  },
  {
   "cell_type": "code",
   "execution_count": null,
   "id": "db7a8a8d",
   "metadata": {
    "vscode": {
     "languageId": "dart"
    }
   },
   "outputs": [],
   "source": [
    "void main() {\n",
    "  final String value = language();\n",
    "  //const String favorite = language(); // Erro: Const variables must be initialized with a constant value\n",
    "  //value = 'none';\n",
    "  print('O Valor armazenado em value = $value');\n",
    "  //print(favorite);\n",
    "}\n",
    "\n",
    "String language() => \"Dart\";"
   ]
  },
  {
   "cell_type": "markdown",
   "id": "derived-differential",
   "metadata": {
    "id": "derived-differential"
   },
   "source": [
    "### Tipo de dado boleano (bool)\n",
    "\n",
    "\n",
    "O tipo de dado boolean é usado para armazenar somente dois possíveis valores: verdadeiro e falso. (true/false)"
   ]
  },
  {
   "cell_type": "code",
   "execution_count": null,
   "id": "personal-green",
   "metadata": {
    "colab": {
     "base_uri": "https://localhost:8080/"
    },
    "executionInfo": {
     "elapsed": 36,
     "status": "ok",
     "timestamp": 1648242160313,
     "user": {
      "displayName": "Elias Oliveira",
      "photoUrl": "https://lh3.googleusercontent.com/a-/AOh14GgpCAGkkzTWvcw3pD6a3inj6_qidbkL8g3rOuykLw=s64",
      "userId": "03206662063122040189"
     },
     "user_tz": 180
    },
    "id": "personal-green",
    "outputId": "05aab1c6-981e-4110-9c28-07540b8ff08c",
    "vscode": {
     "languageId": "dart"
    }
   },
   "outputs": [],
   "source": [
    "void main() {\n",
    "\n",
    "    var didHomework = true;\n",
    "    bool areYouOK = false;\n",
    "    print('O valor armazenado em didHomework = $didHomework');\n",
    "    print('O valor armazenado em areYouOK = $areYouOK');\n",
    "\n",
    "   bool vivo = true;\n",
    "   print('O valor armazenado em vivo = $vivo'); // true\n",
    "}\n"
   ]
  },
  {
   "cell_type": "markdown",
   "id": "dISWtvoTwbqV",
   "metadata": {
    "id": "dISWtvoTwbqV"
   },
   "source": [
    "###  Tipo de dado Inteiro (int)\n",
    "O tipo inteiro é representado por toda e qualquer informação numérica que pertença ao conjunto de números inteiros relativos (números positivos, negativos ou o zero)."
   ]
  },
  {
   "cell_type": "code",
   "execution_count": null,
   "id": "lXl2CmMhwbqY",
   "metadata": {
    "colab": {
     "base_uri": "https://localhost:8080/"
    },
    "executionInfo": {
     "elapsed": 36,
     "status": "ok",
     "timestamp": 1648242164693,
     "user": {
      "displayName": "Elias Oliveira",
      "photoUrl": "https://lh3.googleusercontent.com/a-/AOh14GgpCAGkkzTWvcw3pD6a3inj6_qidbkL8g3rOuykLw=s64",
      "userId": "03206662063122040189"
     },
     "user_tz": 180
    },
    "id": "lXl2CmMhwbqY",
    "outputId": "75855303-0084-4cd1-f8a6-3799bc0a380d",
    "vscode": {
     "languageId": "dart"
    }
   },
   "outputs": [],
   "source": [
    "void main() {\n",
    "   int numero = 10;\n",
    "   print(numero); // 10\n",
    "        \n",
    "    int v= -2147483648;\n",
    "    print(\"Valor negativo do inteiro v= $v\");\n",
    "\n",
    "    v = 2147483647;\n",
    "    print(\"Valor positivo do inteiro v= $v\");\n",
    "}\n"
   ]
  },
  {
   "cell_type": "markdown",
   "id": "faBhGEL71vL7",
   "metadata": {
    "id": "faBhGEL71vL7"
   },
   "source": [
    "###  Tipo de dado ponto flutuante (double)\n",
    "* O tipo de dado double é um ponto flutuante IEEE 754 de 64 bits de precisão dupla. \n",
    "* O tipo double é representado por números decimais, ou seja, números que possuem partes fracionadas.\n"
   ]
  },
  {
   "cell_type": "code",
   "execution_count": null,
   "id": "TjO5L3Bt1vMA",
   "metadata": {
    "colab": {
     "base_uri": "https://localhost:8080/"
    },
    "executionInfo": {
     "elapsed": 24,
     "status": "ok",
     "timestamp": 1648242168392,
     "user": {
      "displayName": "Elias Oliveira",
      "photoUrl": "https://lh3.googleusercontent.com/a-/AOh14GgpCAGkkzTWvcw3pD6a3inj6_qidbkL8g3rOuykLw=s64",
      "userId": "03206662063122040189"
     },
     "user_tz": 180
    },
    "id": "TjO5L3Bt1vMA",
    "outputId": "6276797d-81af-46c8-97ea-0f2694e1cec3",
    "vscode": {
     "languageId": "dart"
    }
   },
   "outputs": [],
   "source": [
    "void main() {\n",
    "\n",
    "        //tipos primitivos Dart - double\n",
    "        \n",
    "        double v= -1002956090000001;\n",
    "\n",
    "        print(\"Valor do double v= $v\");\n",
    "        v = 55.12345678;\n",
    "        print(\"Valor do double após atribuição v=  $v\");\n",
    "    }\n"
   ]
  },
  {
   "cell_type": "markdown",
   "id": "EjpxwCMO1wJz",
   "metadata": {
    "id": "EjpxwCMO1wJz"
   },
   "source": [
    "## String\n",
    "\n",
    "**Todos os tipos** utilizados na linguagem Dart, com exceção dos tipos primitivos (int, double, char e boolean), são \"**objetos**\". O tipo String, com S maiúsculo, **é um dos objetos mais utilizados**. "
   ]
  },
  {
   "cell_type": "code",
   "execution_count": null,
   "id": "PbB2N7By1wJ3",
   "metadata": {
    "colab": {
     "base_uri": "https://localhost:8080/"
    },
    "executionInfo": {
     "elapsed": 24,
     "status": "ok",
     "timestamp": 1648242170293,
     "user": {
      "displayName": "Elias Oliveira",
      "photoUrl": "https://lh3.googleusercontent.com/a-/AOh14GgpCAGkkzTWvcw3pD6a3inj6_qidbkL8g3rOuykLw=s64",
      "userId": "03206662063122040189"
     },
     "user_tz": 180
    },
    "id": "PbB2N7By1wJ3",
    "outputId": "c3b092e7-0b6c-4fc1-8fad-cd271f95989a",
    "vscode": {
     "languageId": "dart"
    }
   },
   "outputs": [],
   "source": [
    "void main() {\n",
    "  /*********  STRINGS *********/\n",
    "  var name = 'Elias';\n",
    "  /* Declaração explicita  */\n",
    "  String sobrenome = 'Oliveira';\n",
    "  print(name);\n",
    "  print(sobrenome);\n",
    "  print(\"Nome Completo: $name $sobrenome\");\n",
    "\n",
    "  // declaração incluir \"\" e '' no String\n",
    "  String ola = \"Alô Mundo 'Dart' ! \";\n",
    "  String nome = 'Prof. \"Elias\".';\n",
    "\n",
    "  print(\"$ola $nome\");\n",
    "\n",
    "  // String de multiplas linhas\n",
    "\n",
    "  var mult= \"\"\"Esta String\n",
    "  Tem mais que uma linha\"\"\";\n",
    "  print(mult);\n",
    "  }\n"
   ]
  },
  {
   "cell_type": "markdown",
   "id": "fb3d78c5",
   "metadata": {},
   "source": [
    "## Dynamic\n",
    "O tipo dynamic é um tipo especial no Dart que permite que uma variável consiga armazenar qualquer tipo de dado e, inclusive, alterá-lo em tempo de execução.\n",
    "\n",
    "O **var** é uma forma semelhante de dinamic. Porem uma vez atribuido um valor a variavel ela não muda mais de tipo."
   ]
  },
  {
   "cell_type": "code",
   "execution_count": null,
   "id": "b962a660",
   "metadata": {
    "vscode": {
     "languageId": "dart"
    }
   },
   "outputs": [],
   "source": [
    "void main() {\n",
    "   dynamic dinamico = \"Treinaweb\";\n",
    "   print(dinamico); // Treinaweb\n",
    "   dinamico = 10;\n",
    "   print(dinamico); // 10\n",
    "\n",
    "   var variavel = \"Treinaweb\";\n",
    "   print(variavel); // Treinaweb\n",
    "   //variavel = 10;\n",
    "   print(variavel); // 10\n",
    "\n",
    "}"
   ]
  },
  {
   "cell_type": "markdown",
   "id": "decf7d84",
   "metadata": {},
   "source": [
    "  ## Default Values\n",
    "  * Tudo que voce coloca em uma variavel é tratado como objeto e caso uma variavel não seja iniciada contem null\n",
    "  * Dart impede que uma variavel seja iniciada com valor null\n",
    "  * Para permitir que uma variavel seja inicializada com null coloca-se **?** após o tipo\n"
   ]
  },
  {
   "cell_type": "code",
   "execution_count": null,
   "id": "d6ee4d9c",
   "metadata": {
    "vscode": {
     "languageId": "dart"
    }
   },
   "outputs": [],
   "source": [
    "void main(){\n",
    "\n",
    "  //  Valor inicial obrigatorio em Dart \n",
    "\n",
    "  //int lineCount; // esse código irá dar erro de compilação.\n",
    "\n",
    "  int? lineCount; // este código desliga o Non-Nullable para a variavel lineCount\n",
    "\n",
    "  //imprime null\n",
    "  print(lineCount);\n",
    "}"
   ]
  },
  {
   "cell_type": "markdown",
   "id": "2a3c5ec5",
   "metadata": {},
   "source": [
    "## Entrada e Saída de Dados no Terminal do Dart\n",
    "\n",
    "* Quando tratamos de Programação, é comum imaginar que queremos trocar dados com o computador para resolvermos nossos problemas, certo? Essa troca de dados, quando ocorre diretamente, muitas vezes é chamada Entrada/Saída (ou mais conhecida como I/O, do inglês, Input/Output).\n",
    "* Quando programamos em Dart, usamos principalmente o terminal para ler as informações que a ferramenta nos entrega (como dados, erros e avisos) e o resultado das operações que estamos realizando.\n",
    "\n"
   ]
  },
  {
   "cell_type": "markdown",
   "id": "b5fd8679",
   "metadata": {},
   "source": [
    "## Saída de dados com a função Print\n",
    "* Um dos primeiros contatos que temos com Dart é a função print(). \n",
    "* Usamos essa função para mostrar algo no terminal do Dart. \n",
    "* Para concatenar (juntar) informações textuais com dados armazenados nas nossas variáveis, podemos **interpolar** essas variáveis, e até expressões, com nossa String usando o caractere **$**."
   ]
  },
  {
   "cell_type": "code",
   "execution_count": null,
   "id": "f7936df7",
   "metadata": {
    "vscode": {
     "languageId": "dart"
    }
   },
   "outputs": [],
   "source": [
    "void main() {\n",
    "  int idade = 25;\n",
    "\n",
    "  print(\"Minha idade é \" + idade.toString()); // Tem que converter manualmente para concatenar, mais trabalhoso, menos legível.\n",
    "  print(\"Minha idade é $idade\"); // Adicionado por interpolação.\n",
    "  print(\"Minha idade ano que vem será: ${idade + 1}\"); // Uma expressão!\n",
    "}"
   ]
  },
  {
   "cell_type": "markdown",
   "id": "f6ca6337",
   "metadata": {},
   "source": [
    "## Imprimindo outros tipos de objetos\n",
    "* A função print() consegue mostrar algo na tela para todo tipo de objeto em Dart. \n",
    "* Para isso, ela usa o método **toString()**, que é herdado da classe **Object**, que é como se fosse o “molde” de todos os outros objetos!"
   ]
  },
  {
   "cell_type": "code",
   "execution_count": null,
   "id": "f2330617",
   "metadata": {
    "vscode": {
     "languageId": "dart"
    }
   },
   "outputs": [],
   "source": [
    "void main() {\n",
    "  String name = \"Ricarth\";\n",
    "  int idade = 25;\n",
    "  double altura = 1.79;\n",
    "  bool geek = true;\n",
    "  List<String> listCoding = [\"Flutter\", \"Unity\"];\n",
    "\n",
    "  print(name);\n",
    "  print(idade);\n",
    "  print(altura);\n",
    "  print(geek);\n",
    "  print(listCoding);\n",
    "  print(main);\n",
    "}"
   ]
  },
  {
   "cell_type": "markdown",
   "id": "6cd3a6d8",
   "metadata": {},
   "source": [
    "## Entrada de dados com a Biblioteca dart:io\n",
    "* E se quisermos receber uma informação vinda do terminal? É possível? Sim! \n",
    "* Para conseguir isso, vamos usar a biblioteca **dart:io** \n",
    "* Biblioteca é um conjunto de códigos que podemos importar (ou seja, adicionar) ao nosso código e a partir daí teremos várias outras funções já prontas para usarmos.\n",
    "* Uma vez importada, agora podemos usar a função **stdin.readLineSync()**, que vai fazer a execução do nosso programa parar e ficar esperando até digitarmos algo.\n",
    "* Como o **stdin.readLineSync()** só nos dá variáveis do tipo String? Para converter para um tipo correto trmos que converter usarmos o **Type Casting**"
   ]
  },
  {
   "cell_type": "code",
   "execution_count": null,
   "id": "fdf666eb",
   "metadata": {
    "vscode": {
     "languageId": "dart"
    }
   },
   "outputs": [],
   "source": [
    "import 'dart:io';\n",
    "\n",
    "void main() {\n",
    "\n",
    "  print(\"Qual a sua idade?\");\n",
    "  String? input = stdin.readLineSync();\n",
    "  if (input != null) {\n",
    "    int idade = int.parse(input);\n",
    "    print(\"Ano que vem sua idade será ${idade + 1} anos.\");\n",
    "  } else {\n",
    "    print(\"Não foi possível calcular o valor da idade\");\n",
    "  }\n",
    "}"
   ]
  },
  {
   "cell_type": "markdown",
   "id": "9OgqdBJMHv1-",
   "metadata": {
    "id": "9OgqdBJMHv1-"
   },
   "source": [
    "## Referências bibliográficas:\n",
    "\n",
    "https://www.treinaweb.com.br/blog/conhecendo-variaveis-e-constantes-no-dart/\n",
    "\n",
    "https://www.treinaweb.com.br/blog/guia-da-linguagem-dart\n",
    "\n",
    "https://www.tabnews.com.br/NelsonJunior/final-e-const-no-dart-flutter\n",
    "\n",
    "jupyter nbconvert --to webpdf --allow-chromium-download"
   ]
  }
 ],
 "metadata": {
  "colab": {
   "collapsed_sections": [],
   "name": "LPOO-Variaveis.ipynb",
   "provenance": []
  },
  "kernelspec": {
   "display_name": "Dart",
   "language": "",
   "name": "jupyterdartkernel"
  },
  "language_info": {
   "codemirror_mode": {
    "name": "ipython",
    "version": 3
   },
   "file_extension": ".py",
   "mimetype": "text/x-python",
   "name": "python",
   "nbconvert_exporter": "python",
   "pygments_lexer": "ipython3",
   "version": "3.11.2"
  }
 },
 "nbformat": 4,
 "nbformat_minor": 5
}
