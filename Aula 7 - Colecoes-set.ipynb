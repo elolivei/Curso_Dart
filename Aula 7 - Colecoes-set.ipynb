{
 "cells": [
  {
   "attachments": {},
   "cell_type": "markdown",
   "metadata": {},
   "source": [
    "## Set \n",
    "### Prof. Elias Oliveira 2023\n"
   ]
  },
  {
   "attachments": {},
   "cell_type": "markdown",
   "metadata": {},
   "source": [
    "## Set\n",
    "* Um set em Dart é uma coleção não ordenada de itens exclusivos. \n",
    "* O suporte de dardo para conjuntos é fornecido por literais definidos e pelo tipo Set.\n",
    "* Na lista podemos ter valores repetidos no set não"
   ]
  },
  {
   "cell_type": "code",
   "execution_count": null,
   "metadata": {
    "vscode": {
     "languageId": "dart"
    }
   },
   "outputs": [],
   "source": [
    "void main() { \n",
    "\n",
    "    // adicionando elemento repetido no set\n",
    "\n",
    "   var halogens = {'fluorine', 'chlorine', 'bromine', 'iodine', 'astatine'};\n",
    "   print(halogens);\n",
    "   halogens.add('fluorine');\n",
    "   print(halogens);\n",
    "\n",
    "    // Initializing the Set and Adding the values\n",
    "    Set geekSet = new  Set();\n",
    "    geekSet.addAll([9,1,2,3,4,5,6,1,1,9]);\n",
    "      \n",
    "    // Looping over the set\n",
    "    for(var el in geekSet){\n",
    "        print(el);\n",
    "    }\n",
    "   \n",
    "    // length of the set.\n",
    "    print('Length: ${geekSet.length}');\n",
    "   \n",
    "    // printing the first element in the set\n",
    "    print('First Element: ${geekSet.first}');\n",
    "   \n",
    "    // Deleting an element not present. No Change\n",
    "    geekSet.remove(10);\n",
    "   \n",
    "    // Deleting an element 9\n",
    "    geekSet.remove(9);\n",
    "    print(geekSet);\n",
    "    \n",
    "    // Imprime o quarto elemento\n",
    "    print (geekSet.elementAt(3));\n",
    "}"
   ]
  },
  {
   "attachments": {},
   "cell_type": "markdown",
   "metadata": {},
   "source": [
    "## Mâos à Massa\n",
    "\n",
    "* Aproveitando a caracteristicas das coleções Set. Vamos criar uma que gere um volante de aposta na Mega Sena. \n",
    "* Devemos gerar um volante para cada tipo de aposta 6 à 15 números.\n",
    "* Imprima os volantes com os números ordenados \n",
    "* OBS.: Abaixo temos o código para converter um set em lista e ordenar uma lista."
   ]
  },
  {
   "cell_type": "code",
   "execution_count": null,
   "metadata": {
    "vscode": {
     "languageId": "dart"
    }
   },
   "outputs": [],
   "source": [
    "void main() {\n",
    "  var setList = {6, 15, 8, 7, 10, 11, 12, 13};\n",
    "  print('Original Set list: $setList');\n",
    "\n",
    "  //Converte uma Set em List\n",
    "  var ascSortedList = [...setList];\n",
    "  print('Unsorted list: $ascSortedList');\n",
    "  \n",
    "  //Ordena uma Lista\n",
    "  ascSortedList.sort();\n",
    "  print('Srted list: $ascSortedList');\n",
    "}\n"
   ]
  },
  {
   "cell_type": "markdown",
   "metadata": {},
   "source": [
    "## Referências bibliográficas:\n",
    "\n",
    "* MEILLER, Dieter. Modern App Development with Dart and Flutter 2 A Comprehensive Introduction to Flutter. Walter de Gruyter GmbH & Co KG, 2021.\n",
    "* https://www.alura.com.br/artigos/entrada-saida-dados-terminal-dart\n",
    "* https://www.respondeai.com.br/conteudo/programacao/python/lista-de-exercicios/estruturas-condicionais-2041\n",
    "\n"
   ]
  }
 ],
 "metadata": {
  "kernelspec": {
   "display_name": "Dart",
   "language": "",
   "name": "jupyterdartkernel"
  },
  "language_info": {
   "codemirror_mode": {
    "name": "ipython",
    "version": 3
   },
   "file_extension": ".py",
   "mimetype": "text/x-python",
   "name": "python",
   "nbconvert_exporter": "python",
   "pygments_lexer": "ipython3",
   "version": "3.10.7"
  },
  "orig_nbformat": 4
 },
 "nbformat": 4,
 "nbformat_minor": 2
}
