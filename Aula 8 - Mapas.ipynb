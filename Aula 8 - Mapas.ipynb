{
 "cells": [
  {
   "attachments": {},
   "cell_type": "markdown",
   "metadata": {},
   "source": [
    "# Mapas \n",
    "### Prof. Elias Oliveira\n"
   ]
  },
  {
   "attachments": {},
   "cell_type": "markdown",
   "metadata": {},
   "source": [
    "## Mapas\n",
    "* Os mapas são coleções de dados organizados em um formato chave-valor. \n",
    "* Cada elemento inserido em um mapa no Dart possui uma chave a ele relacionado. \n",
    "* Os mapas são estruturas muito úteis quando precisamos relacionar cada elemento com um identificador único. \n",
    "* Na lista usamos ***[valor1,valor2 ]*** e no set ***{ valor1, valor2 }***\n",
    "* No map usamos ***{chave1:valor1, chave2:valor2}***"
   ]
  },
  {
   "cell_type": "code",
   "execution_count": null,
   "metadata": {
    "vscode": {
     "languageId": "dart"
    }
   },
   "outputs": [],
   "source": [
    "void main() { \n",
    "\n",
    "    // declarando e depois valorizando\n",
    "\n",
    "   var usuario = new Map(); \n",
    "   usuario['usuario'] = 'admin'; \n",
    "   usuario['senha'] = 'admin123'; \n",
    "   print(\"Usuario criado $usuario\"); \n",
    "\n",
    "   // Criando e incializando num mesmo momento\n",
    "   var usuario1 = {'usuario1':'admin','senha1':'admin123'}; \n",
    "   print(\"usuario1 criado $usuario1\"); \n",
    "\n",
    "   //retornando elemento pela chave\n",
    "   print(\"Imprimindo a chave senha \");\n",
    "   print (usuario['senha']); \n",
    "\n",
    "   // Adicionando elemento\n",
    "   usuario['cargo'] = 'gerente';\n",
    "   print(\"Incluindo cargo $usuario\"); \n",
    "\n",
    "   // removendo elemento\n",
    "   usuario.remove('usuario');\n",
    "   print(\"Removendo ID do usuario $usuario\");\n",
    "\n",
    "   // limpando um mapa\n",
    "    usuario.clear();\n",
    "   print(\"Mapa vazio $usuario\");\n",
    "\n",
    "}"
   ]
  },
  {
   "attachments": {},
   "cell_type": "markdown",
   "metadata": {},
   "source": [
    "* O valor pode ser de qualquer tipo \n",
    "* Inclusive uma coleção."
   ]
  },
  {
   "cell_type": "code",
   "execution_count": null,
   "metadata": {
    "vscode": {
     "languageId": "dart"
    }
   },
   "outputs": [],
   "source": [
    "void main() {\n",
    "  var meumapa  = {\"Jogo1\": [1,2,3,4,5,6], \"Jogo2\": [3,4,5,6,7,8,]};\n",
    "  print( \"Antes da conversão: $meumapa\");\n",
    "\n",
    "}"
   ]
  },
  {
   "attachments": {},
   "cell_type": "markdown",
   "metadata": {},
   "source": [
    "* Mãos a Massa.\n",
    "* Altere nosso programa Mega-Sena e crie um mapa com os 10 jogos possiveis.\n",
    "* Imprima o mapa."
   ]
  },
  {
   "cell_type": "markdown",
   "metadata": {},
   "source": [
    "## Referências bibliográficas:\n",
    "\n",
    "* MEILLER, Dieter. Modern App Development with Dart and Flutter 2 A Comprehensive Introduction to Flutter. Walter de Gruyter GmbH & Co KG, 2021.\n",
    "* https://www.alura.com.br/artigos/entrada-saida-dados-terminal-dart\n",
    "* https://www.respondeai.com.br/conteudo/programacao/python/lista-de-exercicios/estruturas-condicionais-2041\n",
    "\n"
   ]
  }
 ],
 "metadata": {
  "kernelspec": {
   "display_name": "Dart",
   "language": "",
   "name": "jupyterdartkernel"
  },
  "language_info": {
   "codemirror_mode": {
    "name": "ipython",
    "version": 3
   },
   "file_extension": ".py",
   "mimetype": "text/x-python",
   "name": "python",
   "nbconvert_exporter": "python",
   "pygments_lexer": "ipython3",
   "version": "3.10.7"
  },
  "orig_nbformat": 4
 },
 "nbformat": 4,
 "nbformat_minor": 2
}
