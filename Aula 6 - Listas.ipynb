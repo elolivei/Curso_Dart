{
 "cells": [
  {
   "attachments": {},
   "cell_type": "markdown",
   "metadata": {},
   "source": [
    "## Listas \n",
    "### Professor Elias 2023\n",
    "* Talvez a coleção mais comum em quase todas as linguagens de programação é a matriz ou grupo ordenado de objetos. \n",
    "* No Dart, as matrizes são objetos List, então a maioria das pessoas apenas as chama de listas.\n",
    "* A Declaração de uma lista consiste nos literais da separada por vírgulas, entre colchetes []. \n",
    "\n"
   ]
  },
  {
   "cell_type": "code",
   "execution_count": null,
   "metadata": {
    "vscode": {
     "languageId": "dart"
    }
   },
   "outputs": [],
   "source": [
    "void main(){\n",
    "    // Lista de inteiros\n",
    "    var list = [1, 2, 3];\n",
    "    print (\"Lista de inteiros: $list\");\n",
    "\n",
    "    // or\n",
    "    var list1 = [\n",
    "        'Car',\n",
    "        'Boat',\n",
    "        'Plane', // a virgula no final é opcional\n",
    "    ];\n",
    "    print (\"Lista de Strings: $list1\");\n",
    "\n",
    "}"
   ]
  },
  {
   "attachments": {},
   "cell_type": "markdown",
   "metadata": {},
   "source": [
    "* As listas usam indexação baseada em zero, onde 0 é o índice do primeiro valor e tam-1 é o índice do último valor. \n",
    "* Você pode obter o comprimento de uma lista usando a propriedade e acessar os valores de uma lista usando o operador ***list.length***\n",
    "* Em listas onde não foi definido tamanho fixo, pode-se incluir novos elemntos com o operador ***list.add***\n",
    "* Pode-se remover um elemento de uma determinada posição usando o operador ***list.removeAt***"
   ]
  },
  {
   "cell_type": "code",
   "execution_count": null,
   "metadata": {
    "vscode": {
     "languageId": "dart"
    }
   },
   "outputs": [],
   "source": [
    "void main() { \n",
    "    //Cria uma lista com 3 elementos\n",
    "   var lista = [0,0,0]; \n",
    "   print(lista); \n",
    "\n",
    "   //Alteras o valor dos elementos\n",
    "   lista[0] = 1; \n",
    "   lista[1] = 2; \n",
    "   lista[2] = 3; \n",
    "   print(lista); \n",
    "\n",
    "   //Adiciona elementos\n",
    "   lista.add(4); \n",
    "   lista.add(5); \n",
    "   print(lista);\n",
    "\n",
    "   // retornando o tamanho da lista\n",
    "   print(\"O tamanho da lista é: ${lista.length}\");\n",
    "\n",
    "   //removendo elementos pelo valor\n",
    "   lista.remove(2);\n",
    "   print(lista);\n",
    "   print(\"O tamanho da lista é: ${lista.length}\");\n",
    "\n",
    "   // remove o elemento pela posição\n",
    "   lista.removeAt(2);\n",
    "   print(lista);\n",
    "   print(\"O tamanho da lista é: ${lista.length}\");\n",
    "   \n",
    "}\n"
   ]
  },
  {
   "attachments": {},
   "cell_type": "markdown",
   "metadata": {},
   "source": [
    "## Operadores de propagação\n",
    "* Dart suporta o operador de propagação que fornecem uma maneira concisa de inserir vários valores em uma coleção.......?\n",
    "* Por exemplo, você pode usar o operador de propagação para inserir todos os valores de uma lista em outra liata. ***...***"
   ]
  },
  {
   "cell_type": "code",
   "execution_count": null,
   "metadata": {
    "vscode": {
     "languageId": "dart"
    }
   },
   "outputs": [],
   "source": [
    "void main(){\n",
    "    var list = [1, 2, 3, 3];\n",
    "    //insere elementos da lista 1 na lista 2\n",
    "    var list2 = [0, ...list];\n",
    "    print(list2.length);\n",
    "    print (\"Lista: $list\");\n",
    "    print (\"Lista2: $list2\");\n",
    "\n",
    "}"
   ]
  },
  {
   "attachments": {},
   "cell_type": "markdown",
   "metadata": {},
   "source": [
    "* Exemplo de lista com nulo"
   ]
  },
  {
   "cell_type": "code",
   "execution_count": null,
   "metadata": {
    "vscode": {
     "languageId": "dart"
    }
   },
   "outputs": [],
   "source": [
    "void main(){\n",
    "    //Mais  e se a lista estiver nula\n",
    "    var list;\n",
    "    //insere elementos da lista 1 na lista 2\n",
    "    var list2 = [0, ...?list];\n",
    "    print(list2.length);\n",
    "    print (\"Lista: $list\");\n",
    "    print (\"Lista2: $list2\");\n",
    "\n",
    "}"
   ]
  },
  {
   "attachments": {},
   "cell_type": "markdown",
   "metadata": {},
   "source": [
    "* Exemplo de lista de constantes"
   ]
  },
  {
   "cell_type": "code",
   "execution_count": null,
   "metadata": {
    "vscode": {
     "languageId": "dart"
    }
   },
   "outputs": [],
   "source": [
    "void main(){\n",
    "   var constantList = const [1, 2, 3];\n",
    "   constantList[1] = 1; // This line will cause an error.\n",
    "   print (constantList);\n",
    "}\n"
   ]
  },
  {
   "cell_type": "markdown",
   "metadata": {},
   "source": [
    "## Referências bibliográficas:\n",
    "\n",
    "* MEILLER, Dieter. Modern App Development with Dart and Flutter 2 A Comprehensive Introduction to Flutter. Walter de Gruyter GmbH & Co KG, 2021.\n",
    "* https://www.alura.com.br/artigos/entrada-saida-dados-terminal-dart\n",
    "* https://www.respondeai.com.br/conteudo/programacao/python/lista-de-exercicios/estruturas-condicionais-2041\n",
    "\n"
   ]
  }
 ],
 "metadata": {
  "kernelspec": {
   "display_name": "Dart",
   "language": "",
   "name": "jupyterdartkernel"
  },
  "language_info": {
   "codemirror_mode": {
    "name": "ipython",
    "version": 3
   },
   "file_extension": ".py",
   "mimetype": "text/x-python",
   "name": "python",
   "nbconvert_exporter": "python",
   "pygments_lexer": "ipython3",
   "version": "3.10.7"
  },
  "orig_nbformat": 4
 },
 "nbformat": 4,
 "nbformat_minor": 2
}
